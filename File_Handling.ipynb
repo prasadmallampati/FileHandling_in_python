{
  "nbformat": 4,
  "nbformat_minor": 0,
  "metadata": {
    "colab": {
      "provenance": []
    },
    "kernelspec": {
      "name": "python3",
      "display_name": "Python 3"
    },
    "language_info": {
      "name": "python"
    }
  },
  "cells": [
    {
      "cell_type": "markdown",
      "source": [
        "# File_handling"
      ],
      "metadata": {
        "id": "e1-D3XCmu4CR"
      }
    },
    {
      "cell_type": "code",
      "source": [
        "import os"
      ],
      "metadata": {
        "id": "hxw_lgFVu25M"
      },
      "execution_count": null,
      "outputs": []
    },
    {
      "cell_type": "markdown",
      "source": [
        "# knowing current working directory\n"
      ],
      "metadata": {
        "id": "JcpEFXHHlZ99"
      }
    },
    {
      "cell_type": "code",
      "source": [
        "# knowing\n",
        "os.getcwd()"
      ],
      "metadata": {
        "colab": {
          "base_uri": "https://localhost:8080/",
          "height": 35
        },
        "id": "5KLX2DRClfWJ",
        "outputId": "30633eed-7f59-4e07-f008-6a700a7ad3c4"
      },
      "execution_count": null,
      "outputs": [
        {
          "output_type": "execute_result",
          "data": {
            "text/plain": [
              "'/content'"
            ],
            "application/vnd.google.colaboratory.intrinsic+json": {
              "type": "string"
            }
          },
          "metadata": {},
          "execution_count": 6
        }
      ]
    },
    {
      "cell_type": "code",
      "source": [
        "# knowing files avilable in side directory\n",
        "os.listdir()"
      ],
      "metadata": {
        "colab": {
          "base_uri": "https://localhost:8080/"
        },
        "id": "EG6cYihclgrY",
        "outputId": "4269b2df-d9a6-4573-d6e8-e54e1073bf40"
      },
      "execution_count": null,
      "outputs": [
        {
          "output_type": "execute_result",
          "data": {
            "text/plain": [
              "['.config', 'sample_data']"
            ]
          },
          "metadata": {},
          "execution_count": 7
        }
      ]
    },
    {
      "cell_type": "markdown",
      "source": [
        " # modes in file handling\n",
        "\n",
        "In Python, the open function supports several file modes that determine how the file will be opened. Here are the most commonly used modes:\n",
        "\n",
        "'r': Read mode - Opens a file for reading. If the file does not exist, it raises a FileNotFoundError.\n",
        "\n",
        "'w': Write mode - Opens a file for writing. If the file already exists, it truncates the file. If the file does not exist, it creates a new file.\n",
        "\n",
        "'a': Append mode - Opens a file for appending. If the file does not exist, it creates a new file. Data is added to the end of the file without truncating it.\n",
        "\n",
        "'x': Exclusive creation mode - Creates a new file and opens it for writing. If the file already exists, the operation fails.\n",
        "\n",
        "'b': Binary mode - Opens a file in binary mode. This mode is used for non-text files like images or executable files. It is used in conjunction with other modes (e.g., 'rb', 'wb', 'ab').\n",
        "\n",
        "'t': Text mode - Opens a file in text mode. This is the default mode if none is specified. It can also be used in conjunction with other modes (e.g., 'rt', 'wt', 'at').\n",
        "\n",
        "'+': Update mode - Opens a file for updating (both reading and writing). It is used in conjunction with other modes (e.g., 'r+', 'w+', 'a+')."
      ],
      "metadata": {
        "id": "HsngBFpXqDYL"
      }
    },
    {
      "cell_type": "markdown",
      "source": [
        "# creating a text file"
      ],
      "metadata": {
        "id": "hhOJ0YN1rOr8"
      }
    },
    {
      "cell_type": "code",
      "source": [
        "# creating text file file we use x\n",
        "f=open('practice.txt','x')\n",
        "f.close()\n",
        "# creating with other example\n",
        "with open('practicee.txt','x') as file_txt:\n",
        "  file_txt.close()"
      ],
      "metadata": {
        "id": "xXepUo9Wl8vG"
      },
      "execution_count": null,
      "outputs": []
    },
    {
      "cell_type": "markdown",
      "source": [],
      "metadata": {
        "id": "c81ThQTXJ8NK"
      }
    },
    {
      "cell_type": "markdown",
      "source": [
        "# writing into text file"
      ],
      "metadata": {
        "id": "WTfR3rxurSqB"
      }
    },
    {
      "cell_type": "code",
      "source": [
        "# writing  text file other example\n",
        "with open('practice1.txt','w') as f:\n",
        "  f.write('this is practice1 text file')\n",
        "  f.close()"
      ],
      "metadata": {
        "id": "R8OSBCshmtfR"
      },
      "execution_count": null,
      "outputs": []
    },
    {
      "cell_type": "markdown",
      "source": [
        "# reading into a text file"
      ],
      "metadata": {
        "id": "Y9IokYFVrR_Y"
      }
    },
    {
      "cell_type": "code",
      "source": [
        "# reading content from text file\n",
        "f=open('practice.txt','r')\n",
        "print(f.read())\n",
        "f.close()"
      ],
      "metadata": {
        "colab": {
          "base_uri": "https://localhost:8080/"
        },
        "id": "PgeKNSkund16",
        "outputId": "58cb30b8-6919-4b2e-af47-a203c5a1550e"
      },
      "execution_count": null,
      "outputs": [
        {
          "output_type": "stream",
          "name": "stdout",
          "text": [
            "this is file handling practice text file\n"
          ]
        }
      ]
    },
    {
      "cell_type": "markdown",
      "source": [
        "# reading line by line"
      ],
      "metadata": {
        "id": "cBbWPsqUr6pQ"
      }
    },
    {
      "cell_type": "code",
      "source": [
        "#readling line by line\n",
        "f=open('practice3.txt','r')\n",
        "\n",
        "print(f.readline())\n",
        "print(f.readline())\n",
        "print(f.readline())\n",
        "f.close()"
      ],
      "metadata": {
        "colab": {
          "base_uri": "https://localhost:8080/"
        },
        "id": "fRQYqPeAniCr",
        "outputId": "459876f9-c4c6-4d8b-a190-f89bf78de113"
      },
      "execution_count": null,
      "outputs": [
        {
          "output_type": "stream",
          "name": "stdout",
          "text": [
            "hello\n",
            "\n",
            "hai \n",
            "\n",
            "im\n",
            "\n",
            "prasad\n",
            "\n",
            "how \n",
            "\n",
            "are \n",
            "\n",
            "you\n"
          ]
        }
      ]
    },
    {
      "cell_type": "markdown",
      "source": [
        "# readlines"
      ],
      "metadata": {
        "id": "avp88LQCr-rr"
      }
    },
    {
      "cell_type": "code",
      "source": [
        "# reaadlines exampple\n",
        "f=open('practice3.txt','r')\n",
        "\n",
        "print(f.readlines())\n",
        "\n",
        "f.close()"
      ],
      "metadata": {
        "colab": {
          "base_uri": "https://localhost:8080/"
        },
        "id": "5xMbpw5FsAo0",
        "outputId": "4df01e13-30a2-4953-e5c3-d17a4e45630b"
      },
      "execution_count": null,
      "outputs": [
        {
          "output_type": "stream",
          "name": "stdout",
          "text": [
            "['hello\\n', 'hai \\n', 'im\\n', 'prasad\\n', 'how \\n', 'are \\n', 'you']\n"
          ]
        }
      ]
    },
    {
      "cell_type": "markdown",
      "source": [
        "# appening into a file\n",
        "\n"
      ],
      "metadata": {
        "id": "ZX8QX_A8sHgD"
      }
    },
    {
      "cell_type": "code",
      "source": [
        "# append in this already exitsting file avilable writing on that\n",
        "f=open('practice3.txt','a')\n",
        "f.write('im fine')\n",
        "f.close()\n"
      ],
      "metadata": {
        "id": "Lp7LjFBRsKyH"
      },
      "execution_count": null,
      "outputs": []
    },
    {
      "cell_type": "markdown",
      "source": [
        "# read binary file"
      ],
      "metadata": {
        "id": "iGQ3VPTos6Re"
      }
    },
    {
      "cell_type": "code",
      "source": [
        "# read binary\n",
        "f=open('practice.bin','rb')\n",
        "print(f.read())\n",
        "f.close()"
      ],
      "metadata": {
        "colab": {
          "base_uri": "https://localhost:8080/"
        },
        "id": "GoG9ZZkms9gA",
        "outputId": "cf040a5a-97cc-44d5-a692-7f6535a02abd"
      },
      "execution_count": null,
      "outputs": [
        {
          "output_type": "stream",
          "name": "stdout",
          "text": [
            "<built-in method read of _io.BufferedReader object at 0x7f5cce16af00>\n"
          ]
        }
      ]
    },
    {
      "cell_type": "markdown",
      "source": [
        "# write binary\n",
        "\n"
      ],
      "metadata": {
        "id": "GtJRWyO3tYx-"
      }
    },
    {
      "cell_type": "code",
      "source": [
        "f=open('practice.txt','wb')\n",
        "binary_data = os.urandom(1024)\n",
        "f.write(binary_data)\n",
        "f.close()"
      ],
      "metadata": {
        "id": "mHHReVK6tid6"
      },
      "execution_count": null,
      "outputs": []
    },
    {
      "cell_type": "markdown",
      "source": [
        " # read and write mode file\n"
      ],
      "metadata": {
        "id": "Nt9cThzQuKPC"
      }
    },
    {
      "cell_type": "code",
      "source": [
        "# Read and write mode\n",
        "with open(\"practice3.txt\", \"r+\") as file:\n",
        "    content = file.read()\n",
        "    file.write(\"\\nUpdating the file.\")\n",
        "    f.close()"
      ],
      "metadata": {
        "id": "PC3cSK2dtt26"
      },
      "execution_count": null,
      "outputs": []
    }
  ]
}